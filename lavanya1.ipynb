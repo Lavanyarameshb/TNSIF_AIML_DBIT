{
 "cells": [
  {
   "cell_type": "code",
   "execution_count": 2,
   "id": "9ab0bd92-4c28-47a3-83a0-9638b3c7412b",
   "metadata": {},
   "outputs": [
    {
     "name": "stdout",
     "output_type": "stream",
     "text": [
      "('rama', 1, 1997)\n"
     ]
    }
   ],
   "source": [
    "tup1=('rama',1,1997)\n",
    "print(tup1)"
   ]
  },
  {
   "cell_type": "code",
   "execution_count": 3,
   "id": "5c514d1b-db4d-415e-9370-693a8dbcf3c5",
   "metadata": {},
   "outputs": [
    {
     "name": "stdout",
     "output_type": "stream",
     "text": [
      "(3,)\n",
      "3\n"
     ]
    }
   ],
   "source": [
    "tup=(3,)\n",
    "print(tup)\n",
    "tup=(3)\n",
    "print(tup)"
   ]
  },
  {
   "cell_type": "code",
   "execution_count": 4,
   "id": "8070f905-2414-4913-9055-35135eef608f",
   "metadata": {},
   "outputs": [
    {
     "name": "stdout",
     "output_type": "stream",
     "text": [
      "<class 'int'>\n",
      "<class 'tuple'>\n"
     ]
    }
   ],
   "source": [
    "tup=(3)\n",
    "print(type(tup))\n",
    "tup=(3,)\n",
    "print(type(tup))"
   ]
  },
  {
   "cell_type": "code",
   "execution_count": 5,
   "id": "91b04e5f-8338-4dfc-9019-318ece125d75",
   "metadata": {},
   "outputs": [
    {
     "name": "stdout",
     "output_type": "stream",
     "text": [
      "()\n"
     ]
    }
   ],
   "source": [
    "tup=()\n",
    "print(tup)"
   ]
  },
  {
   "cell_type": "code",
   "execution_count": 6,
   "id": "8b0d7768-3ef8-4a4c-b4dd-3e603f135403",
   "metadata": {},
   "outputs": [
    {
     "name": "stdout",
     "output_type": "stream",
     "text": [
      "(1, 2, 3, 4)\n"
     ]
    }
   ],
   "source": [
    "tup=tuple([1,2,3,4])\n",
    "print(tup)"
   ]
  },
  {
   "cell_type": "code",
   "execution_count": 7,
   "id": "80a07a8c-231d-420a-bb0c-30213a2e7857",
   "metadata": {},
   "outputs": [
    {
     "name": "stdout",
     "output_type": "stream",
     "text": [
      "(1, 2, 3, 4, 5, 10)\n",
      "1\n"
     ]
    }
   ],
   "source": [
    "t=(1,2,3,4)\n",
    "t=t+(5,)\n",
    "t+=(10,)\n",
    "t+(11,)#will not add anything in the tuple\n",
    "print(t)\n",
    "print(t[0])"
   ]
  },
  {
   "cell_type": "code",
   "execution_count": 8,
   "id": "cd35aa90-e142-44aa-91f7-e53232e270d5",
   "metadata": {},
   "outputs": [
    {
     "name": "stdin",
     "output_type": "stream",
     "text": [
      "Enter the number of employees:  3\n",
      "Enter salary of employee 1:  4500\n",
      "Enter salary of employee 2:  2547\n",
      "Enter salary of employee 3:  2369\n"
     ]
    },
    {
     "name": "stdout",
     "output_type": "stream",
     "text": [
      "\n",
      "Minimum salary: 2369.0\n",
      "Maximum salary: 4500.0\n"
     ]
    }
   ],
   "source": [
    "## Write a python program to input ‘n’ employee salaries and find the minimum and maximum salary amongst ‘n’ employees.\n",
    "n = int(input(\"Enter the number of employees: \"))\n",
    "salaries = []\n",
    "for i in range(n):\n",
    "    salary = float(input(f\"Enter salary of employee {i + 1}: \"))\n",
    "    salaries.append(salary)\n",
    "min_salary = min(salaries)\n",
    "max_salary = max(salaries)\n",
    "print(f\"\\nMinimum salary: {min_salary}\")\n",
    "print(f\"Maximum salary: {max_salary}\")"
   ]
  },
  {
   "cell_type": "code",
   "execution_count": 9,
   "id": "abe88592-ae01-45f4-9fc4-12748f020e9b",
   "metadata": {},
   "outputs": [
    {
     "name": "stdin",
     "output_type": "stream",
     "text": [
      "Enter the number of employees:  2\n",
      "Enter salary of employee :  540\n",
      "Enter salary of employee :  145\n"
     ]
    },
    {
     "name": "stdout",
     "output_type": "stream",
     "text": [
      "\n",
      "Minimum salary: 145\n",
      "Maximum salary: 540\n"
     ]
    }
   ],
   "source": [
    "n = int(input(\"Enter the number of employees: \"))\n",
    "salaries = []\n",
    "for i in range(n):\n",
    "    salary = input(f\"Enter salary of employee : \")\n",
    "    salaries.append(salary)\n",
    "min_salary = min(salaries)\n",
    "max_salary = max(salaries)\n",
    "print(f\"\\nMinimum salary: {min_salary}\")\n",
    "print(f\"Maximum salary: {max_salary}\")"
   ]
  },
  {
   "cell_type": "code",
   "execution_count": 10,
   "id": "525133a0-f902-4865-b828-d8c2d5ed2851",
   "metadata": {},
   "outputs": [
    {
     "name": "stdout",
     "output_type": "stream",
     "text": [
      "(1, 2, 3, 1, 2, 3, 1, 2, 3)\n",
      "('1,2,3', '1,2,3', '1,2,3')\n"
     ]
    }
   ],
   "source": [
    "tup=(1,2,3)*3\n",
    "print(tup)\n",
    "tup=('1,2,3',)*3\n",
    "print(tup)"
   ]
  },
  {
   "cell_type": "code",
   "execution_count": 11,
   "id": "2207af0e-14d0-448c-88c5-6569ffce4bc6",
   "metadata": {},
   "outputs": [
    {
     "name": "stdout",
     "output_type": "stream",
     "text": [
      "7\n",
      "(1, 2, 2, 4, 5, 3, 7) (2, 3, 4, 5, 6, 7, 8)\n",
      "7\n",
      "1\n",
      "(8, 9)\n"
     ]
    }
   ],
   "source": [
    "tup1=(1,2,2,4,5,3,7)\n",
    "tup2=(2,3,4,5,6,7,8)\n",
    "seq=(8,9)\n",
    "print(len(tup1))#length of tuple\n",
    "print(tup1,tup2)\n",
    "print(max(tup1))#max\n",
    "print(min(tup1))#min\n",
    "print(tuple(seq))"
   ]
  },
  {
   "cell_type": "code",
   "execution_count": 12,
   "id": "9c20de5b-eeef-4b2d-a2c4-bddf6f2e25a1",
   "metadata": {},
   "outputs": [
    {
     "name": "stdout",
     "output_type": "stream",
     "text": [
      "('PYTHON',)\n",
      "1\n",
      "4\n",
      "(10, 20, 30, 10, 20, 30)\n"
     ]
    }
   ],
   "source": [
    "t=tuple()\n",
    "t=t+('PYTHON',)\n",
    "print(t)\n",
    "print(len(t))\n",
    "t1=(10,20,30)\n",
    "t2=t1+t\n",
    "print(len(t2))\n",
    "t3=t1*2\n",
    "print(t3)"
   ]
  },
  {
   "cell_type": "code",
   "execution_count": 13,
   "id": "95e00eee-bf43-4424-954d-34e6008e7903",
   "metadata": {},
   "outputs": [
    {
     "name": "stdin",
     "output_type": "stream",
     "text": [
      "Enter the number of employees:  1\n",
      "\n",
      "Enter name of employee 1:  deepu\n",
      "Enter employee number of deepu:  1\n"
     ]
    },
    {
     "name": "stdout",
     "output_type": "stream",
     "text": [
      "\n",
      "Employee Name and Number:\n",
      "deepu : 1\n"
     ]
    }
   ],
   "source": [
    "# Write a program to input ‘n’ employee numbers and names and store them in a dictionary. Display dictionaries employee’s names(key) and numbers(values) together.\n",
    "n = int(input(\"Enter the number of employees: \"))\n",
    "emp_dict = {}\n",
    "for i in range(n):\n",
    "    emp_name = input(f\"\\nEnter name of employee {i + 1}: \")\n",
    "    emp_number = input(f\"Enter employee number of {emp_name}: \")\n",
    "    emp_dict[emp_name] = emp_number\n",
    "print(\"\\nEmployee Name and Number:\")\n",
    "for emp_name, emp_number in emp_dict.items():\n",
    "    print(f\"{emp_name} : {emp_number}\")"
   ]
  },
  {
   "cell_type": "code",
   "execution_count": null,
   "id": "36130aa7-8c48-43a9-8c30-830f8e5f21de",
   "metadata": {},
   "outputs": [],
   "source": []
  }
 ],
 "metadata": {
  "kernelspec": {
   "display_name": "Python 3 (ipykernel)",
   "language": "python",
   "name": "python3"
  },
  "language_info": {
   "codemirror_mode": {
    "name": "ipython",
    "version": 3
   },
   "file_extension": ".py",
   "mimetype": "text/x-python",
   "name": "python",
   "nbconvert_exporter": "python",
   "pygments_lexer": "ipython3",
   "version": "3.13.5"
  }
 },
 "nbformat": 4,
 "nbformat_minor": 5
}
