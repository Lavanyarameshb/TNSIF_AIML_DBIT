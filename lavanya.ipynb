{
 "cells": [
  {
   "cell_type": "code",
   "execution_count": 1,
   "id": "7c587080-2288-4e3b-b67d-867454ac2efe",
   "metadata": {},
   "outputs": [
    {
     "name": "stdin",
     "output_type": "stream",
     "text": [
      "Enter your PIN:  1234\n"
     ]
    },
    {
     "name": "stdout",
     "output_type": "stream",
     "text": [
      "Access granted.\n",
      "\n",
      "Choose an option:\n",
      "1. Check Balance\n",
      "2. Deposit Money\n",
      "3. Withdraw Money\n",
      "4. Exit\n"
     ]
    },
    {
     "name": "stdin",
     "output_type": "stream",
     "text": [
      "Enter option (1-4):  1\n"
     ]
    },
    {
     "name": "stdout",
     "output_type": "stream",
     "text": [
      "Your current balance is ₹10000\n",
      "\n",
      "Choose an option:\n",
      "1. Check Balance\n",
      "2. Deposit Money\n",
      "3. Withdraw Money\n",
      "4. Exit\n"
     ]
    },
    {
     "name": "stdin",
     "output_type": "stream",
     "text": [
      "Enter option (1-4):  2\n",
      "Enter amount to deposit: ₹ 2000\n"
     ]
    },
    {
     "name": "stdout",
     "output_type": "stream",
     "text": [
      "Deposited ₹2000.0. New balance is ₹12000.0\n",
      "\n",
      "Choose an option:\n",
      "1. Check Balance\n",
      "2. Deposit Money\n",
      "3. Withdraw Money\n",
      "4. Exit\n"
     ]
    },
    {
     "name": "stdin",
     "output_type": "stream",
     "text": [
      "Enter option (1-4):  3\n",
      "Enter amount to withdraw: ₹ 1000\n"
     ]
    },
    {
     "name": "stdout",
     "output_type": "stream",
     "text": [
      "Withdrew ₹1000.0. New balance is ₹11000.0\n",
      "\n",
      "Choose an option:\n",
      "1. Check Balance\n",
      "2. Deposit Money\n",
      "3. Withdraw Money\n",
      "4. Exit\n"
     ]
    },
    {
     "name": "stdin",
     "output_type": "stream",
     "text": [
      "Enter option (1-4):  4\n"
     ]
    },
    {
     "name": "stdout",
     "output_type": "stream",
     "text": [
      "Thank you for using the ATM. Goodbye!\n"
     ]
    }
   ],
   "source": [
    "# Simple ATM Simulation\n",
    "\n",
    "# Initial setup\n",
    "correct_pin = \"1234\"\n",
    "balance = 10000  # Starting balance\n",
    "attempts = 3\n",
    "\n",
    "# PIN verification\n",
    "while attempts > 0:\n",
    "    entered_pin = input(\"Enter your PIN: \")\n",
    "    if entered_pin == correct_pin:\n",
    "        print(\"Access granted.\\n\")\n",
    "        break\n",
    "    else:\n",
    "        attempts -= 1\n",
    "        print(f\"Incorrect PIN. {attempts} attempt(s) left.\\n\")\n",
    "\n",
    "if attempts == 0:\n",
    "    print(\"Too many incorrect attempts. Card blocked.\")\n",
    "else:\n",
    "    # ATM Menu\n",
    "    while True:\n",
    "        print(\"Choose an option:\")\n",
    "        print(\"1. Check Balance\")\n",
    "        print(\"2. Deposit Money\")\n",
    "        print(\"3. Withdraw Money\")\n",
    "        print(\"4. Exit\")\n",
    "\n",
    "        choice = input(\"Enter option (1-4): \")\n",
    "\n",
    "        if choice == \"1\":\n",
    "            print(f\"Your current balance is ₹{balance}\\n\")\n",
    "\n",
    "        elif choice == \"2\":\n",
    "            amount = float(input(\"Enter amount to deposit: ₹\"))\n",
    "            balance += amount\n",
    "            print(f\"Deposited ₹{amount}. New balance is ₹{balance}\\n\")\n",
    "\n",
    "        elif choice == \"3\":\n",
    "            amount = float(input(\"Enter amount to withdraw: ₹\"))\n",
    "            if amount > balance:\n",
    "                print(\"Insufficient funds.\\n\")\n",
    "            else:\n",
    "                balance -= amount\n",
    "                print(f\"Withdrew ₹{amount}. New balance is ₹{balance}\\n\")\n",
    "\n",
    "        elif choice == \"4\":\n",
    "            print(\"Thank you for using the ATM. Goodbye!\")\n",
    "            break\n",
    "\n",
    "        else:\n",
    "            print(\"Invalid option. Please try again.\\n\")\n"
   ]
  },
  {
   "cell_type": "code",
   "execution_count": 1,
   "id": "e65468a1-2e5f-475b-96cd-42ce544fdc8a",
   "metadata": {},
   "outputs": [
    {
     "name": "stdin",
     "output_type": "stream",
     "text": [
      "Enter your name:  lavanyar24\n"
     ]
    },
    {
     "name": "stdout",
     "output_type": "stream",
     "text": [
      "Consonants in the name: lvnyr\n"
     ]
    }
   ],
   "source": [
    "# Accept a name from the user\n",
    "name = input(\"Enter your name: \")\n",
    "\n",
    "# Define vowels for reference\n",
    "vowels = \"aeiouAEIOU\"\n",
    "\n",
    "# Initialize an empty string to store consonants\n",
    "consonants = \"\"\n",
    "\n",
    "# Loop through each character in the name\n",
    "for char in name:\n",
    "    if char.isalpha() and char not in vowels:\n",
    "        consonants += char\n",
    "\n",
    "# Print the consonants\n",
    "print(\"Consonants in the name:\", consonants)\n"
   ]
  },
  {
   "cell_type": "code",
   "execution_count": 2,
   "id": "4a44b8e8-368f-414d-9193-0682d289ab07",
   "metadata": {},
   "outputs": [
    {
     "name": "stdin",
     "output_type": "stream",
     "text": [
      "Enter a string:  lav\n",
      "Enter a string:  deepu\n",
      "Enter a string:  abhi\n",
      "Enter a string:  bon\n",
      "Enter a string:  Bon\n"
     ]
    },
    {
     "name": "stdout",
     "output_type": "stream",
     "text": [
      "Voyage\n"
     ]
    }
   ],
   "source": [
    "while True:\n",
    "    user_input = input(\"Enter a string: \")\n",
    "    if user_input == \"Bon\":\n",
    "        print(\"Voyage\")\n",
    "        break\n"
   ]
  },
  {
   "cell_type": "code",
   "execution_count": 3,
   "id": "5622d7d6-849a-4cc2-a99b-7499c920107b",
   "metadata": {},
   "outputs": [
    {
     "name": "stdin",
     "output_type": "stream",
     "text": [
      "Enter your door number and street:  4 and 14\n"
     ]
    },
    {
     "name": "stdout",
     "output_type": "stream",
     "text": [
      "Numbers in the address: 414\n"
     ]
    }
   ],
   "source": [
    "# Accept input from the user\n",
    "address = input(\"Enter your door number and street: \")\n",
    "\n",
    "# Initialize a variable to hold the digits\n",
    "numbers = \"\"\n",
    "\n",
    "# Loop through each character and check if it's a digit\n",
    "for char in address:\n",
    "    if char.isdigit():\n",
    "        numbers += char\n",
    "\n",
    "# Display the extracted numbers\n",
    "print(\"Numbers in the address:\", numbers)\n"
   ]
  },
  {
   "cell_type": "code",
   "execution_count": 4,
   "id": "439ffdfc-12c3-440b-ac48-a9e383ba33ae",
   "metadata": {},
   "outputs": [
    {
     "name": "stdout",
     "output_type": "stream",
     "text": [
      "Enter 5 elements for the list:\n"
     ]
    },
    {
     "name": "stdin",
     "output_type": "stream",
     "text": [
      "Element 1:  lavanya\n",
      "Element 2:  deepu\n",
      "Element 3:  abhi\n",
      "Element 4:  pushpa\n",
      "Element 5:  ramesh\n",
      "Enter your name:  srajaan\n"
     ]
    },
    {
     "name": "stdout",
     "output_type": "stream",
     "text": [
      "Updated list: ['lavanya', 'deepu', 'srajaan', 'pushpa', 'srajaan']\n"
     ]
    }
   ],
   "source": [
    "# Accept a list of 5 elements from the user\n",
    "user_list = []\n",
    "print(\"Enter 5 elements for the list:\")\n",
    "for i in range(5):\n",
    "    element = input(f\"Element {i+1}: \")\n",
    "    user_list.append(element)\n",
    "\n",
    "# Accept the user's name\n",
    "name = input(\"Enter your name: \")\n",
    "\n",
    "# Replace the third and fifth elements (index 2 and 4) with the user's name\n",
    "user_list[2] = name\n",
    "user_list[4] = name\n",
    "\n",
    "# Display the updated list\n",
    "print(\"Updated list:\", user_list)\n"
   ]
  },
  {
   "cell_type": "code",
   "execution_count": 5,
   "id": "89f2e5c5-f0e9-49d3-b0f4-33bea7b8a73a",
   "metadata": {},
   "outputs": [
    {
     "name": "stdin",
     "output_type": "stream",
     "text": [
      "How many items do you want to add to the list?  4\n",
      "Enter item 1:  lav\n",
      "Enter item 2:  deepu\n",
      "Enter item 3:  abhi\n",
      "Enter item 4:  pushpa\n",
      "Enter the index where you want to insert the new element:  3\n",
      "Enter the new element:  ramesh\n"
     ]
    },
    {
     "name": "stdout",
     "output_type": "stream",
     "text": [
      "Element inserted successfully.\n",
      "Updated list: ['lav', 'deepu', 'abhi', 'ramesh', 'pushpa']\n"
     ]
    }
   ],
   "source": [
    "# Step 1: Accept a list from the user\n",
    "user_list = []\n",
    "num_items = int(input(\"How many items do you want to add to the list? \"))\n",
    "for i in range(num_items):\n",
    "    item = input(f\"Enter item {i+1}: \")\n",
    "    user_list.append(item)\n",
    "\n",
    "# Step 2: Accept index and new element from the user\n",
    "index = int(input(\"Enter the index where you want to insert the new element: \"))\n",
    "new_element = input(\"Enter the new element: \")\n",
    "\n",
    "# Step 3: Validate index and insert accordingly\n",
    "if 0 <= index <= len(user_list):\n",
    "    user_list.insert(index, new_element)\n",
    "    print(\"Element inserted successfully.\")\n",
    "else:\n",
    "    print(\"Invalid index. Appending the element at the end of the list.\")\n",
    "    user_list.append(new_element)\n",
    "\n",
    "# Step 4: Display the updated list\n",
    "print(\"Updated list:\", user_list)\n"
   ]
  },
  {
   "cell_type": "code",
   "execution_count": 1,
   "id": "50415a35-2035-457f-b344-d2fb4e62b0c1",
   "metadata": {},
   "outputs": [
    {
     "name": "stdout",
     "output_type": "stream",
     "text": [
      "[12, 4, 18, 10, 6]\n"
     ]
    }
   ],
   "source": [
    "# Step 1: Define the list with 10 elements\n",
    "numbers = [12, 7, 9, 4, 18, 3, 21, 10, 6, 15]\n",
    "\n",
    "# Step 2: Remove the third element (index 2, since indexing starts at 0)\n",
    "numbers.pop(2)\n",
    "\n",
    "# Step 3: Remove all odd elements\n",
    "# Create a new list with only even numbers\n",
    "filtered_numbers = [num for num in numbers if num % 2 == 0]\n",
    "\n",
    "print(filtered_numbers)\n"
   ]
  },
  {
   "cell_type": "code",
   "execution_count": 2,
   "id": "bc0927e2-0bbf-4d02-a8a1-3adcdf6c7ecf",
   "metadata": {},
   "outputs": [
    {
     "name": "stdout",
     "output_type": "stream",
     "text": [
      "['p', 'd', 'a', 'f', 'a', 'n']\n",
      "['n', 'f', 'a', 'd', 'p']\n"
     ]
    }
   ],
   "source": [
    "k = ['a', 'p', 'd', 'a', 'f', 'a', 'n']\n",
    "k.remove('a')\n",
    "print(k)\n",
    "k.reverse()\n",
    "k.remove('a')\n",
    "print(k)"
   ]
  },
  {
   "cell_type": "code",
   "execution_count": null,
   "id": "19bd78a9-3893-448c-8424-d3ff6873e98e",
   "metadata": {},
   "outputs": [],
   "source": []
  }
 ],
 "metadata": {
  "kernelspec": {
   "display_name": "Python 3 (ipykernel)",
   "language": "python",
   "name": "python3"
  },
  "language_info": {
   "codemirror_mode": {
    "name": "ipython",
    "version": 3
   },
   "file_extension": ".py",
   "mimetype": "text/x-python",
   "name": "python",
   "nbconvert_exporter": "python",
   "pygments_lexer": "ipython3",
   "version": "3.13.5"
  }
 },
 "nbformat": 4,
 "nbformat_minor": 5
}
